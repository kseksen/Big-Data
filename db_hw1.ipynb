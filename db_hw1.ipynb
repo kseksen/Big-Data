{
 "cells": [
  {
   "cell_type": "code",
   "execution_count": 1,
   "id": "3496aed0-4ca0-434d-b8d8-7c89179e0185",
   "metadata": {},
   "outputs": [],
   "source": [
    "import opendatasets as od\n",
    "import pandas as pd\n",
    "import time \n",
    "from pathlib import Path"
   ]
  },
  {
   "cell_type": "code",
   "execution_count": 3,
   "id": "3c6685ab-f530-4328-a311-a5c652e95658",
   "metadata": {},
   "outputs": [
    {
     "name": "stdout",
     "output_type": "stream",
     "text": [
      "Please provide your Kaggle credentials to download this dataset. Learn more: http://bit.ly/kaggle-creds\n",
      "Your Kaggle username:"
     ]
    },
    {
     "name": "stdin",
     "output_type": "stream",
     "text": [
      "  kseniaviller\n"
     ]
    },
    {
     "name": "stdout",
     "output_type": "stream",
     "text": [
      "Your Kaggle Key:"
     ]
    },
    {
     "name": "stdin",
     "output_type": "stream",
     "text": [
      "  ········\n"
     ]
    },
    {
     "name": "stdout",
     "output_type": "stream",
     "text": [
      "Dataset URL: https://www.kaggle.com/datasets/sadmadlad/imdb-user-reviews\n",
      "Downloading imdb-user-reviews.zip to ./imdb-user-reviews\n"
     ]
    },
    {
     "name": "stderr",
     "output_type": "stream",
     "text": [
      "100%|██████████████████████████████████████| 15.1M/15.1M [00:01<00:00, 8.28MB/s]\n"
     ]
    },
    {
     "name": "stdout",
     "output_type": "stream",
     "text": [
      "\n"
     ]
    }
   ],
   "source": [
    "dataset_path = Path('imdb-user-reviews', 'song_lyrics.csv')\n",
    "if not dataset_path.is_file():\n",
    "    od.download('https://www.kaggle.com/datasets/sadmadlad/imdb-user-reviews')"
   ]
  },
  {
   "cell_type": "code",
   "execution_count": 5,
   "id": "af71c4ee-4405-465f-888c-ff15e4e125e5",
   "metadata": {},
   "outputs": [
    {
     "name": "stdout",
     "output_type": "stream",
     "text": [
      "8.030000000000001 1.0517128885774867\n"
     ]
    }
   ],
   "source": [
    "import json\n",
    "\n",
    "\n",
    "n, mean, M2 = 0, 0.0, 0\n",
    "for path in Path('imdb-user-reviews').glob('**/*'):\n",
    "    if path.is_file() and path.suffix == '.json':\n",
    "        with open(path, 'r') as f:\n",
    "            info = json.load(f)\n",
    "        score = float(info['movieIMDbRating'])\n",
    "        n += 1\n",
    "        delta = score - mean\n",
    "        mean += delta / n\n",
    "        M2 += delta * (score - mean)\n",
    "\n",
    "print(mean, (M2 / n) ** (1/2))"
   ]
  },
  {
   "cell_type": "code",
   "execution_count": 7,
   "id": "d85c0c76-96c3-44bd-909c-796b0c15e4ee",
   "metadata": {},
   "outputs": [],
   "source": [
    "from functools import reduce"
   ]
  },
  {
   "cell_type": "code",
   "execution_count": 61,
   "id": "615e5e2d-4e59-4249-bca4-47d94d1b009d",
   "metadata": {},
   "outputs": [],
   "source": [
    "def mapper(path):\n",
    "    \"\"\"\n",
    "    Mapper function that reads a file and returns a tuple with partial results for ratings.\n",
    "    Returns (n, mean, M2), where:\n",
    "    - n: number of ratings\n",
    "    - mean: average of ratings\n",
    "    - M2: intermediate value for variance calculation\n",
    "    \"\"\"\n",
    "    if path.is_file():\n",
    "        try:\n",
    "            with open(path, 'r') as file:\n",
    "                data = json.load(file)\n",
    "\n",
    "            # Debugging: Print the path and data\n",
    "            print(f\"Processing file: {path}\")\n",
    "            print(f\"Data: {data}\")\n",
    "\n",
    "            rating = data.get('movieIMDbRating')\n",
    "            if rating is not None:\n",
    "                print(f\"Found rating: {rating}\")\n",
    "                n = 1\n",
    "                mean = rating\n",
    "                M2 = 0\n",
    "                return (n, mean, M2)\n",
    "            else:\n",
    "                print(f\"No rating found in file: {path}\")\n",
    "        except (json.JSONDecodeError, KeyError, TypeError) as e:\n",
    "            print(f\"Skipping file {path} due to error: {e}\")\n",
    "\n",
    "    return (0, 0, 0)\n"
   ]
  },
  {
   "cell_type": "code",
   "execution_count": 63,
   "id": "499cbdea-ddbb-4b3f-bff9-e7dfac628e5d",
   "metadata": {},
   "outputs": [],
   "source": [
    "def reducer(score_data1, score_data2):\n",
    "    \"\"\"\n",
    "    Reducer function that combines two data parts and returns updated n, mean, and M2.\n",
    "    \"\"\"\n",
    "    n1, mean1, M2_1 = score_data1\n",
    "    n2, mean2, M2_2 = score_data2\n",
    "\n",
    "    n = n1 + n2\n",
    "    if n == 0:\n",
    "        return (0, 0, 0)\n",
    "\n",
    "    delta = mean2 - mean1\n",
    "    mean = mean1 + delta * n2 / n\n",
    "    M2 = M2_1 + M2_2 + delta**2 * n1 * n2 / n\n",
    "\n",
    "    return n, mean, M2"
   ]
  },
  {
   "cell_type": "code",
   "execution_count": 65,
   "id": "483e875b-4b97-4a96-b599-8a46c68eb433",
   "metadata": {},
   "outputs": [
    {
     "name": "stdout",
     "output_type": "stream",
     "text": [
      "Skipping file imdb-user-reviews/Forrest Gump/movieReviews.csv due to error: Expecting value: line 1 column 1 (char 0)\n",
      "Processing file: imdb-user-reviews/Forrest Gump/metadata.json\n",
      "Data: {'title': 'Forrest Gump', 'movieIMDbRating': 8.8, 'totalRatingCount': 2016919, 'totalUserReviews': '2.9K', 'totalCriticReviews': '173', 'metaScore': '82', 'movieGenres': ['Drama', 'Romance'], 'directors': ['Robert Zemeckis'], 'datePublished': '1994-07-06', 'creators': ['Winston Groom', 'Eric Roth'], 'mainStars': ['Tom Hanks', 'Robin Wright', 'Gary Sinise'], 'description': 'The presidencies of Kennedy and Johnson, the Vietnam War, the Watergate scandal and other historical events unfold from the perspective of an Alabama man with an IQ of 75, whose only desire is to be reunited with his childhood swe...', 'duration': 142}\n",
      "Found rating: 8.8\n",
      "Skipping file imdb-user-reviews/Pulp Fiction/movieReviews.csv due to error: Expecting value: line 1 column 1 (char 0)\n",
      "Processing file: imdb-user-reviews/Pulp Fiction/metadata.json\n",
      "Data: {'title': 'Pulp Fiction', 'movieIMDbRating': 8.9, 'totalRatingCount': 1999600, 'totalUserReviews': '3.4K', 'totalCriticReviews': '297', 'metaScore': '94', 'movieGenres': ['Crime', 'Drama'], 'directors': ['Quentin Tarantino'], 'datePublished': '1994-10-14', 'creators': ['Quentin Tarantino', 'Roger Avary'], 'mainStars': ['John Travolta', 'Uma Thurman', 'Samuel L. Jackson'], 'description': 'The lives of two mob hitmen, a boxer, a gangster and his wife, and a pair of diner bandits intertwine in four tales of violence and redemption.', 'duration': 154}\n",
      "Found rating: 8.9\n",
      "Skipping file imdb-user-reviews/The Avengers/movieReviews.csv due to error: Expecting value: line 1 column 1 (char 0)\n",
      "Processing file: imdb-user-reviews/The Avengers/metadata.json\n",
      "Data: {'title': 'The Avengers', 'movieIMDbRating': 8, 'totalRatingCount': 1364943, 'totalUserReviews': '2K', 'totalCriticReviews': '755', 'metaScore': '69', 'movieGenres': ['Action', 'Adventure', 'Sci-Fi'], 'directors': ['Joss Whedon'], 'datePublished': '2012-05-11', 'creators': ['Joss Whedon', 'Zak Penn'], 'mainStars': ['Robert Downey Jr.', 'Chris Evans', 'Scarlett Johansson'], 'description': \"Earth's mightiest heroes must come together and learn to fight as a team if they are going to stop the mischievous Loki and his alien army from enslaving humanity.\", 'duration': 143}\n",
      "Found rating: 8\n",
      "Skipping file imdb-user-reviews/John Wick Chapter 3  Parabellum/movieReviews.csv due to error: Expecting value: line 1 column 1 (char 0)\n",
      "Processing file: imdb-user-reviews/John Wick Chapter 3  Parabellum/metadata.json\n",
      "Data: {'title': 'John Wick Chapter 3  Parabellum', 'movieIMDbRating': 7.4, 'totalRatingCount': 330425, 'totalUserReviews': '2.4K', 'totalCriticReviews': '399', 'metaScore': '73', 'movieGenres': ['Action', 'Crime', 'Thriller'], 'directors': ['Chad Stahelski'], 'datePublished': '2019-07-05', 'creators': ['Derek Kolstad', 'Shay Hatten', 'Chris Collins'], 'mainStars': ['Keanu Reeves', 'Halle Berry', 'Ian McShane'], 'description': \"John Wick is on the run after killing a member of the international assassins' guild, and with a $14 million price tag on his head, he is the target of hit men and women everywhere.\", 'duration': 130}\n",
      "Found rating: 7.4\n",
      "Skipping file imdb-user-reviews/Morbius/movieReviews.csv due to error: Expecting value: line 1 column 1 (char 0)\n",
      "Processing file: imdb-user-reviews/Morbius/metadata.json\n",
      "Data: {'title': 'Morbius', 'movieIMDbRating': 5.2, 'totalRatingCount': 90706, 'totalUserReviews': '1.9K', 'totalCriticReviews': '230', 'metaScore': '35', 'movieGenres': ['Action', 'Adventure', 'Horror'], 'directors': ['Daniel Espinosa'], 'datePublished': '2022-04-01', 'creators': ['Matt Sazama', 'Burk Sharpless'], 'mainStars': ['Jared Leto', 'Matt Smith', 'Adria Arjona'], 'description': 'Biochemist Michael Morbius tries to cure himself of a rare blood disease, but he inadvertently infects himself with a form of vampirism instead.', 'duration': 104}\n",
      "Found rating: 5.2\n",
      "Skipping file imdb-user-reviews/The Dark Knight/movieReviews.csv due to error: Expecting value: line 1 column 1 (char 0)\n",
      "Processing file: imdb-user-reviews/The Dark Knight/metadata.json\n",
      "Data: {'title': 'The Dark Knight', 'movieIMDbRating': 9, 'totalRatingCount': 2581534, 'totalUserReviews': '8.2K', 'totalCriticReviews': '436', 'metaScore': '84', 'movieGenres': ['Action', 'Crime', 'Drama'], 'directors': ['Christopher Nolan'], 'datePublished': '2008-07-18', 'creators': ['Jonathan Nolan', 'Christopher Nolan', 'David S. Goyer'], 'mainStars': ['Christian Bale', 'Heath Ledger', 'Aaron Eckhart'], 'description': 'When the menace known as the Joker wreaks havoc and chaos on the people of Gotham, Batman must accept one of the greatest psychological and physical tests of his ability to fight injustice.', 'duration': 152}\n",
      "Found rating: 9\n",
      "Skipping file imdb-user-reviews/Joker/movieReviews.csv due to error: Expecting value: line 1 column 1 (char 0)\n",
      "Processing file: imdb-user-reviews/Joker/metadata.json\n",
      "Data: {'title': 'Joker', 'movieIMDbRating': 8.4, 'totalRatingCount': 1213550, 'totalUserReviews': '11.3K', 'totalCriticReviews': '697', 'metaScore': '59', 'movieGenres': ['Crime', 'Drama', 'Thriller'], 'directors': ['Todd Phillips'], 'datePublished': '2019-10-04', 'creators': ['Todd Phillips', 'Scott Silver', 'Bob Kane'], 'mainStars': ['Joaquin Phoenix', 'Robert De Niro', 'Zazie Beetz'], 'description': 'A mentally troubled stand-up comedian embarks on a downward spiral that leads to the creation of an iconic villain.', 'duration': 122}\n",
      "Found rating: 8.4\n",
      "Skipping file imdb-user-reviews/Thor Ragnarok/movieReviews.csv due to error: Expecting value: line 1 column 1 (char 0)\n",
      "Processing file: imdb-user-reviews/Thor Ragnarok/metadata.json\n",
      "Data: {'title': 'Thor Ragnarok', 'movieIMDbRating': 7.9, 'totalRatingCount': 715040, 'totalUserReviews': '1.8K', 'totalCriticReviews': '462', 'metaScore': '74', 'movieGenres': ['Action', 'Adventure', 'Comedy'], 'directors': ['Taika Waititi'], 'datePublished': '2017-11-03', 'creators': ['Eric Pearson', 'Craig Kyle', 'Christopher L. Yost'], 'mainStars': ['Chris Hemsworth', 'Tom Hiddleston', 'Cate Blanchett'], 'description': 'Imprisoned on the planet Sakaar, Thor must race against time to return to Asgard and stop Ragnarök, the destruction of his world, at the hands of the powerful and ruthless villain Hela.', 'duration': 130}\n",
      "Found rating: 7.9\n",
      "Skipping file imdb-user-reviews/Avengers Endgame/movieReviews.csv due to error: Expecting value: line 1 column 1 (char 0)\n",
      "Processing file: imdb-user-reviews/Avengers Endgame/metadata.json\n",
      "Data: {'title': 'Avengers Endgame', 'movieIMDbRating': 8.4, 'totalRatingCount': 1073964, 'totalUserReviews': '9.5K', 'totalCriticReviews': '593', 'metaScore': '78', 'movieGenres': ['Action', 'Adventure', 'Drama'], 'directors': ['Anthony Russo', 'Joe Russo'], 'datePublished': '2019-04-26', 'creators': ['Christopher Markus', 'Stephen McFeely', 'Stan Lee'], 'mainStars': ['Robert Downey Jr.', 'Chris Evans', 'Mark Ruffalo'], 'description': \"After the devastating events of Avengers: Infinity War (2018), the universe is in ruins. With the help of remaining allies, the Avengers assemble once more in order to reverse Thanos' actions and restore balance to the universe.\", 'duration': 181}\n",
      "Found rating: 8.4\n",
      "Skipping file imdb-user-reviews/SpiderMan No Way Home/movieReviews.csv due to error: Expecting value: line 1 column 1 (char 0)\n",
      "Processing file: imdb-user-reviews/SpiderMan No Way Home/metadata.json\n",
      "Data: {'title': 'SpiderMan No Way Home', 'movieIMDbRating': 8.3, 'totalRatingCount': 675951, 'totalUserReviews': '6K', 'totalCriticReviews': '396', 'metaScore': '71', 'movieGenres': ['Action', 'Adventure', 'Fantasy'], 'directors': ['Jon Watts'], 'datePublished': '2021-12-17', 'creators': ['Chris McKenna', 'Erik Sommers', 'Stan Lee'], 'mainStars': ['Tom Holland', 'Zendaya', 'Benedict Cumberbatch'], 'description': \"With Spider-Man's identity now revealed, Peter asks Doctor Strange for help. When a spell goes wrong, dangerous foes from other worlds start to appear, forcing Peter to discover what it truly means to be Spider-Man.\", 'duration': 148}\n",
      "Found rating: 8.3\n",
      "Average rating: 8.030000000000001\n",
      "Standard deviation: 1.0517128885774867\n",
      "CPU times: user 51.5 ms, sys: 64.2 ms, total: 116 ms\n",
      "Wall time: 147 ms\n"
     ]
    }
   ],
   "source": [
    "%%time\n",
    "n, mean, M2 = reduce(reducer, map(mapper, Path('imdb-user-reviews').glob('**/*')))\n",
    "\n",
    "# Check if n is greater than zero before calculating mean and standard deviation\n",
    "if n > 0:\n",
    "    print(\"Average rating:\", mean)\n",
    "    print(\"Standard deviation:\", (M2 / n) ** 0.5)\n",
    "else:\n",
    "    print(\"No valid ratings found.\")"
   ]
  },
  {
   "cell_type": "code",
   "execution_count": null,
   "id": "fd866677-5c0d-42a4-8a54-4ff36a7959d5",
   "metadata": {},
   "outputs": [],
   "source": []
  }
 ],
 "metadata": {
  "kernelspec": {
   "display_name": "Python 3 (ipykernel)",
   "language": "python",
   "name": "python3"
  },
  "language_info": {
   "codemirror_mode": {
    "name": "ipython",
    "version": 3
   },
   "file_extension": ".py",
   "mimetype": "text/x-python",
   "name": "python",
   "nbconvert_exporter": "python",
   "pygments_lexer": "ipython3",
   "version": "3.11.7"
  }
 },
 "nbformat": 4,
 "nbformat_minor": 5
}
